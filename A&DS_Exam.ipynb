{
  "nbformat": 4,
  "nbformat_minor": 0,
  "metadata": {
    "colab": {
      "provenance": [],
      "authorship_tag": "ABX9TyPP6aNPehD6j0sAhjarg8Ru",
      "include_colab_link": true
    },
    "kernelspec": {
      "name": "python3",
      "display_name": "Python 3"
    },
    "language_info": {
      "name": "python"
    }
  },
  "cells": [
    {
      "cell_type": "markdown",
      "metadata": {
        "id": "view-in-github",
        "colab_type": "text"
      },
      "source": [
        "<a href=\"https://colab.research.google.com/github/KIRAN3031/Python_Programming/blob/main/A%26DS_Exam.ipynb\" target=\"_parent\"><img src=\"https://colab.research.google.com/assets/colab-badge.svg\" alt=\"Open In Colab\"/></a>"
      ]
    },
    {
      "cell_type": "markdown",
      "source": [
        "# Algorithm Design and Analysis\n"
      ],
      "metadata": {
        "id": "EuzOcef9Ij1H"
      }
    },
    {
      "cell_type": "markdown",
      "source": [
        "## 1. Merge Sort\n",
        "\n",
        "\n"
      ],
      "metadata": {
        "id": "TOQ38K0x0FHc"
      }
    },
    {
      "cell_type": "code",
      "source": [
        "import math\n",
        "import matplotlib.pyplot as plt"
      ],
      "metadata": {
        "id": "Z85xvQ40-Nav"
      },
      "execution_count": 48,
      "outputs": []
    },
    {
      "cell_type": "code",
      "source": [
        "def Merge(array, low, mid, high):\n",
        "    n1 = mid - low + 1\n",
        "    n2 = high - mid\n",
        "    left = array[low:mid+1]\n",
        "    right = array[mid+1:high+1]\n",
        "    i = 0\n",
        "    j = 0\n",
        "    k = low\n",
        "    while i<n1 and j<n2:\n",
        "      if left[i] <= right[j]:\n",
        "        array[k] = left[i]\n",
        "        i += 1\n",
        "      else:\n",
        "        array[k] = right[j]\n",
        "        j += 1\n",
        "      k += 1\n",
        "    while i<n1:\n",
        "      array[k] = left[i]\n",
        "      i += 1\n",
        "      k += 1\n",
        "    while j<n2:\n",
        "      array[k] = right[j]\n",
        "      j += 1\n",
        "      k += 1\n",
        "\n",
        "    return array"
      ],
      "metadata": {
        "id": "6y3tkGTZ111y"
      },
      "execution_count": 49,
      "outputs": []
    },
    {
      "cell_type": "code",
      "source": [
        "def Merge_sort(array, low, high):\n",
        "    if low < high:\n",
        "        mid = (low + high) // 2\n",
        "        Merge_sort(array, low, mid)\n",
        "        Merge_sort(array, mid + 1, high)\n",
        "        Merge(array, low, mid, high)"
      ],
      "metadata": {
        "id": "y_LDsC_w0YPj"
      },
      "execution_count": null,
      "outputs": []
    },
    {
      "cell_type": "code",
      "source": [
        "arr = [10,9,8,7,6,5,4,3,2,1]\n",
        "print(\"The array before sorting is :\",arr)\n",
        "Merge_sort(arr,0,len(arr)-1)\n",
        "print(\"The array after sorting is\",arr)"
      ],
      "metadata": {
        "id": "YbEhMGao0YME"
      },
      "execution_count": 50,
      "outputs": []
    },
    {
      "cell_type": "code",
      "source": [
        "input_sizes = [5, 10, 100, 1000, 10000, 50000, 100000]\n",
        "time_complexity=[n * math.log2(n) for n in input_sizes]\n",
        "\n",
        "plt.plot(input_sizes, time_complexity,marker = 'o',linestyle = '-')\n",
        "plt.xlabel('Input Size(n)')\n",
        "plt.ylabel('Time Complexity(nlogn)')\n",
        "plt.title('Merge Sort Time Complexity')\n",
        "plt.grid(True)\n",
        "plt.show()"
      ],
      "metadata": {
        "id": "L_7QCm6R0YJg"
      },
      "execution_count": 52,
      "outputs": []
    },
    {
      "cell_type": "markdown",
      "source": [
        "##2. Quick Sort\n"
      ],
      "metadata": {
        "id": "LwNLMYk-Iw6g"
      }
    },
    {
      "cell_type": "code",
      "source": [
        "def Qucik_sort(array, low, high):\n",
        "    if low < high:\n",
        "      j = Partition(array, low, high)\n",
        "      Qucik_sort(array, low, j-1)\n",
        "      Qucik_sort(array, j+1, high)"
      ],
      "metadata": {
        "id": "BbPDUFEYIvf5"
      },
      "execution_count": null,
      "outputs": []
    },
    {
      "cell_type": "code",
      "source": [
        "def Partition(array,low,high):\n",
        "  pivot = array[low]\n",
        "  i = low\n",
        "  j = high+1\n",
        "  while True:\n",
        "    i += 1\n",
        "    while array[i] < pivot:\n",
        "      i += 1\n",
        "    j -= 1\n",
        "    while array[j] > pivot:\n",
        "      j -= 1\n",
        "    if i >= j:\n",
        "      break\n",
        "    array[i],array[j] = array[j],array[i]\n",
        "    array[low],array[j] = array[j],array[low]\n",
        "  return j\n"
      ],
      "metadata": {
        "id": "cbah2g-BJKgV"
      },
      "execution_count": null,
      "outputs": []
    },
    {
      "cell_type": "code",
      "source": [
        "arr = [10,9,8,7,6,5,4,3,2,1]\n",
        "print(\"The array before sorting is :\",arr)\n",
        "Merge_sort(arr,0,len(arr)-1)\n",
        "print(\"The array after sorting is\",arr)"
      ],
      "metadata": {
        "id": "6rUrQ0V9KHc1"
      },
      "execution_count": 53,
      "outputs": []
    },
    {
      "cell_type": "markdown",
      "source": [
        "## 3. Articulation Point"
      ],
      "metadata": {
        "id": "Oo3TLEFZKcNn"
      }
    },
    {
      "cell_type": "code",
      "source": [
        "from collections import defaultdict\n",
        "\n",
        "class Graph:\n",
        "    def __init__(self, vertices):\n",
        "        self.V = vertices\n",
        "        self.graph = defaultdict(list)\n",
        "        self.time = 0\n",
        "\n",
        "    def add_edge(self, u, v):\n",
        "        self.graph[u].append(v)\n",
        "        self.graph[v].append(u)\n",
        "\n",
        "    def articulation_point_util(self, u, visited, disc, low, parent, ap):\n",
        "        visited[u] = True\n",
        "        disc[u] = low[u] = self.time\n",
        "        self.time += 1\n",
        "        children = 0\n",
        "\n",
        "        for v in self.graph[u]:\n",
        "            if not visited[v]:\n",
        "                parent[v] = u\n",
        "                children += 1\n",
        "                self.articulation_point_util(v, visited, disc, low, parent, ap)\n",
        "\n",
        "                low[u] = min(low[u], low[v])\n",
        "                if parent[u] == -1 and children > 1:\n",
        "                    ap[u] = True\n",
        "                if parent[u] != -1 and low[v] >= disc[u]:\n",
        "                    ap[u] = True\n",
        "            elif v != parent[u]:\n",
        "                low[u] = min(low[u], disc[v])\n",
        "\n",
        "    def find_articulation_points(self):\n",
        "        visited = [False] * self.V\n",
        "        disc = [-1] * self.V\n",
        "        low = [-1] * self.V\n",
        "        parent = [-1] * self.V\n",
        "        ap = [False] * self.V\n",
        "\n",
        "        for i in range(self.V):\n",
        "            if not visited[i]:\n",
        "                self.articulation_point_util(i, visited, disc, low, parent, ap)\n",
        "\n",
        "        print(\"Articulation points:\")\n",
        "        for i in range(self.V):\n",
        "            if ap[i]:\n",
        "                print(i)\n",
        "\n",
        "# Example usage\n",
        "g = Graph(5)\n",
        "g.add_edge(1, 0)\n",
        "g.add_edge(0, 2)\n",
        "g.add_edge(2, 1)\n",
        "g.add_edge(0, 3)\n",
        "g.add_edge(3, 4)\n",
        "g.find_articulation_points()"
      ],
      "metadata": {
        "id": "ncfxYT0wKOQa"
      },
      "execution_count": 54,
      "outputs": []
    },
    {
      "cell_type": "markdown",
      "source": [
        "## 4. Knapscak"
      ],
      "metadata": {
        "id": "oYdFy0NcL4E9"
      }
    },
    {
      "cell_type": "code",
      "source": [
        "profits = [10, 5, 15, 7, 6, 18, 3]\n",
        "weights = [2, 3, 5, 7, 1, 4, 1]\n",
        "capacity = 15\n",
        "\n",
        "# Calculate profit to weight ratio and store index\n",
        "ratios = [(profits[i] / weights[i], i) for i in range(len(profits))]\n",
        "# Sort by ratio descending\n",
        "ratios.sort(key=lambda x: x[0], reverse=True)\n",
        "\n",
        "total_profit = 0.0\n",
        "fractions = [0] * len(profits)\n",
        "remaining_capacity = capacity\n",
        "\n",
        "for ratio, i in ratios:\n",
        "    if weights[i] <= remaining_capacity:\n",
        "        fractions[i] = 1\n",
        "        total_profit += profits[i]\n",
        "        remaining_capacity -= weights[i]\n",
        "    else:\n",
        "        fractions[i] = remaining_capacity / weights[i]\n",
        "        total_profit += profits[i] * fractions[i]\n",
        "        break\n",
        "\n",
        "print(\"Fractions of items taken:\")\n",
        "for i, fraction in enumerate(fractions):\n",
        "    print(f\"Item {i + 1}: {fraction:.2f}\")\n",
        "print(f\"Total profit: {total_profit:.2f}\")\n"
      ],
      "metadata": {
        "id": "Jl1LlTY3L0pB"
      },
      "execution_count": 55,
      "outputs": []
    },
    {
      "cell_type": "markdown",
      "source": [
        "##5. Job Sequencing"
      ],
      "metadata": {
        "id": "Ixx9VX_tZghz"
      }
    },
    {
      "cell_type": "code",
      "source": [
        "deadlines = [2, 1, 2, 1, 3]\n",
        "profits = [100, 19, 27, 25, 15]\n",
        "n = len(deadlines)\n",
        "\n",
        "jobs = sorted([(profits[i], deadlines[i], i+1) for i in range(n)], key=lambda x: x[0], reverse=True)\n",
        "\n",
        "max_deadline = max(deadlines)\n",
        "slots = [-1] * max_deadline  # -1 means slot is free\n",
        "\n",
        "total_profit = 0\n",
        "scheduled_jobs = []\n",
        "\n",
        "for profit, deadline, job_id in jobs:\n",
        "    for slot in range(min(deadline, max_deadline) - 1, -1, -1):\n",
        "        if slots[slot] == -1:\n",
        "            slots[slot] = job_id\n",
        "            total_profit += profit\n",
        "            scheduled_jobs.append(job_id)\n",
        "            break  # slot found, move to next job\n",
        "\n",
        "print(\"Scheduled jobs:\", scheduled_jobs)\n",
        "print(\"Total profit:\", total_profit)\n"
      ],
      "metadata": {
        "id": "U32izk_UaIB9"
      },
      "execution_count": 56,
      "outputs": []
    },
    {
      "cell_type": "markdown",
      "source": [
        "##5. Prims Algorithm\n"
      ],
      "metadata": {
        "id": "TvSLHHb-ZpQ2"
      }
    },
    {
      "cell_type": "code",
      "source": [
        "INF = 100\n",
        "\n",
        "# Example input: number of vertices and cost adjacency matrix (1-based indexing)\n",
        "n = 7\n",
        "cost = [\n",
        "    [],  # index 0 unused for 1-based\n",
        "    [0, 100, 28, 100, 100, 100, 10, 100],\n",
        "    [0, 28, 100, 16, 100, 100, 100, 14],\n",
        "    [0, 100, 16, 100, 12, 100, 100, 100],\n",
        "    [0, 100, 100, 12, 100, 22, 100, 18],\n",
        "    [0, 100, 100, 100, 22, 100, 25, 24],\n",
        "    [0, 10, 100, 100, 100, 25, 100, 100],\n",
        "    [0, 100, 14, 100, 18, 24, 100, 100]\n",
        "]\n",
        "\n",
        "t = [[0, 0] for _ in range(n-1)]\n",
        "near = [INF] * (n+1)\n",
        "mincost = 0\n",
        "u = v = 0\n",
        "\n",
        "# Find the minimum cost edge\n",
        "min_ = INF\n",
        "for i in range(1, n+1):\n",
        "    for j in range(1, n+1):\n",
        "        if i != j and cost[i][j] < min_:\n",
        "            min_ = cost[i][j]\n",
        "            u, v = i, j\n",
        "\n",
        "t[0][0] = u\n",
        "t[0][1] = v\n",
        "mincost += cost[u][v]\n",
        "\n",
        "near[u] = near[v] = 0\n",
        "\n",
        "for i in range(1, n+1):\n",
        "    if near[i] != 0:\n",
        "        if cost[i][u] < cost[i][v]:\n",
        "            near[i] = u\n",
        "        else:\n",
        "            near[i] = v\n",
        "\n",
        "# Construct the minimum spanning tree\n",
        "for i in range(1, n-1):\n",
        "    min2 = INF\n",
        "    k = 0\n",
        "    for j in range(1, n+1):\n",
        "        if near[j] != 0 and cost[j][near[j]] < min2:\n",
        "            min2 = cost[j][near[j]]\n",
        "            k = j\n",
        "    t[i][0] = k\n",
        "    t[i][1] = near[k]\n",
        "    mincost += cost[k][near[k]]\n",
        "    near[k] = 0\n",
        "\n",
        "    for j in range(1, n+1):\n",
        "        if near[j] != 0 and cost[j][k] < cost[j][near[j]]:\n",
        "            near[j] = k\n",
        "\n",
        "print(\"Minimum spanning tree edges:\")\n",
        "for i in range(n-1):\n",
        "    print(f\"{t[i][0]} - {t[i][1]}\")\n",
        "\n",
        "print(\"Total cost of MST:\", mincost)\n"
      ],
      "metadata": {
        "id": "i2I3pMrpbeA7"
      },
      "execution_count": 61,
      "outputs": []
    },
    {
      "cell_type": "markdown",
      "source": [
        "##6. Single source shortest path (Dijkstra)"
      ],
      "metadata": {
        "id": "25T21EbnZpNV"
      }
    },
    {
      "cell_type": "code",
      "source": [
        "import heapq\n",
        "\n",
        "def dijkstra(graph, start):\n",
        "    n = len(graph)\n",
        "    dist = [float('inf')] * n\n",
        "    dist[start] = 0\n",
        "    priority_queue = [(0, start)]\n",
        "\n",
        "    while priority_queue:\n",
        "        current_dist, u = heapq.heappop(priority_queue)\n",
        "        if current_dist > dist[u]:\n",
        "            continue\n",
        "        for v, weight in enumerate(graph[u]):\n",
        "            if weight != 0 and weight != float('inf'):\n",
        "                new_dist = dist[u] + weight\n",
        "                if new_dist < dist[v]:\n",
        "                    dist[v] = new_dist\n",
        "                    heapq.heappush(priority_queue, (new_dist, v))\n",
        "    return dist\n",
        "\n",
        "# Example adjacency matrix (0: no edge, other: weight)\n",
        "graph = [\n",
        "    [0, 2, 5, float('inf')],\n",
        "    [2, 0, 3, float('inf')],\n",
        "    [5, 3, 0, 1],\n",
        "    [float('inf'), float('inf'), 1, 0]\n",
        "]\n",
        "\n",
        "start_node = 0\n",
        "distances = dijkstra(graph, start_node)\n",
        "print(\"Vertex: Distance from start\", list(enumerate(distances)))\n"
      ],
      "metadata": {
        "id": "EY6UKthGdDju"
      },
      "execution_count": 60,
      "outputs": []
    },
    {
      "cell_type": "markdown",
      "source": [
        "##7. Sum of subset"
      ],
      "metadata": {
        "id": "R_Tfw99JZpID"
      }
    },
    {
      "cell_type": "code",
      "source": [
        "def sum_of_subsets(arr, target):\n",
        "    n = len(arr)\n",
        "    found = False\n",
        "\n",
        "    # Iterate over all possible subsets using bitmasks\n",
        "    for i in range(1 << n):\n",
        "        current_sum = 0\n",
        "        subset = []\n",
        "        for j in range(n):\n",
        "            # Check if jth element is included in the subset\n",
        "            if (i & (1 << j)) != 0:\n",
        "                current_sum += arr[j]\n",
        "                subset.append(arr[j])\n",
        "        if current_sum == target:\n",
        "            found = True\n",
        "            print(\"Subset found:\", subset)\n",
        "\n",
        "    if not found:\n",
        "        print(\"No subset with the given sum.\")\n",
        "\n",
        "# Example usage:\n",
        "arr = [5, 10, 11, 12, 15, 18, 20]\n",
        "target = 30\n",
        "sum_of_subsets(arr, target)\n"
      ],
      "metadata": {
        "id": "u7wkyBs8ejta"
      },
      "execution_count": 59,
      "outputs": []
    },
    {
      "cell_type": "markdown",
      "source": [
        "##8. Optimal Binary Search Tree (OBST)"
      ],
      "metadata": {
        "id": "0ecqqlp7ZpKs"
      }
    },
    {
      "cell_type": "code",
      "source": [
        "import sys\n",
        "\n",
        "def optimal_bst(p, q, n):\n",
        "    # p: probabilities of keys (1-based indexing)\n",
        "    # q: probabilities of dummy keys\n",
        "    # n: number of keys\n",
        "\n",
        "    c = [[0] * (n + 1) for _ in range(n + 1)]\n",
        "    w = [[0] * (n + 1) for _ in range(n + 1)]\n",
        "    r = [[0] * (n + 1) for _ in range(n + 1)]\n",
        "\n",
        "    for i in range(n + 1):\n",
        "        c[i][i] = 0\n",
        "        w[i][i] = q[i]\n",
        "        r[i][i] = 0\n",
        "\n",
        "    for length in range(1, n + 1):\n",
        "        for i in range(n - length + 1):\n",
        "            j = i + length\n",
        "            c[i][j] = sys.maxsize\n",
        "            w[i][j] = w[i][j - 1] + p[j] + q[j]\n",
        "            for k in range(i + 1, j + 1):  # possible roots\n",
        "                cost = c[i][k - 1] + c[k][j] + w[i][j]\n",
        "                if cost < c[i][j]:\n",
        "                    c[i][j] = cost\n",
        "                    r[i][j] = k\n",
        "\n",
        "    return c, r\n",
        "\n",
        "# Example usage\n",
        "n = 4\n",
        "p = [0, 0.1, 0.2, 0.4, 0.3]  # probabilities of keys, 1-based\n",
        "q = [0.05, 0.1, 0.05, 0.05, 0.05]  # probabilities of dummy keys\n",
        "\n",
        "cost, root = optimal_bst(p, q, n)\n",
        "\n",
        "print(\"Cost matrix:\")\n",
        "for i in range(n + 1):\n",
        "    print(cost[i])\n",
        "\n",
        "print(\"\\nRoot matrix:\")\n",
        "for i in range(n + 1):\n",
        "    print(root[i])\n"
      ],
      "metadata": {
        "id": "JfbDzc_bO4RX"
      },
      "execution_count": 57,
      "outputs": []
    },
    {
      "cell_type": "code",
      "source": [],
      "metadata": {
        "id": "Z64Xq_8se5-S"
      },
      "execution_count": null,
      "outputs": []
    }
  ]
}